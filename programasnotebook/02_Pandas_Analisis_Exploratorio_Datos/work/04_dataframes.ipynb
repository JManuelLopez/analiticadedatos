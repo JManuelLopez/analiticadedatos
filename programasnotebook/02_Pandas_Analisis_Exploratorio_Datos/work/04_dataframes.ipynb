{
 "cells": [
  {
   "cell_type": "code",
   "execution_count": 7,
   "metadata": {},
   "outputs": [],
   "source": [
    "import pandas as pd"
   ]
  },
  {
   "cell_type": "markdown",
   "metadata": {},
   "source": [
    "# DataFrames\n",
    "\n",
    "1. Objetivos:\n",
    "- Aprender a crear `DataFrames` usando diccionarios de listas\n",
    "- Aprender a indexar `DataFrames` para obtener subconjuntos de datos"
   ]
  },
  {
   "cell_type": "markdown",
   "metadata": {},
   "source": [
    "Los DataFrames son entonces estructuras de datos bidimensionales. Tienen filas y columnas. Hay innumerables formas de crear `DataFrames` (si quieren ahondar en el tema, [aquí hay una fuente](https://www.geeksforgeeks.org/different-ways-to-create-pandas-dataframe/) muy completa). Vamos a aprender una de ellas: los diccionarios de listas.\n",
    "\n",
    "Aqui tenemos un diccionario de Listas"
   ]
  },
  {
   "cell_type": "code",
   "execution_count": 8,
   "metadata": {},
   "outputs": [],
   "source": [
    "datos = {\n",
    "    'columna_1': ['valor_fila_0', 'valor_fila_1', 'valor_fila_2', 'valor_fila_3', 'valor_fila_4'],\n",
    "    'columna_2': ['valor_fila_0', 'valor_fila_1', 'valor_fila_2', 'valor_fila_3', 'valor_fila_4'],\n",
    "    'columna_3': ['valor_fila_0', 'valor_fila_1', 'valor_fila_2', 'valor_fila_3', 'valor_fila_4'],\n",
    "    'columna_4': ['valor_fila_0', 'valor_fila_1', 'valor_fila_2', 'valor_fila_3', 'valor_fila_4']\n",
    "}\n"
   ]
  },
  {
   "cell_type": "code",
   "execution_count": 9,
   "metadata": {},
   "outputs": [
    {
     "data": {
      "text/html": [
       "<div>\n",
       "<style scoped>\n",
       "    .dataframe tbody tr th:only-of-type {\n",
       "        vertical-align: middle;\n",
       "    }\n",
       "\n",
       "    .dataframe tbody tr th {\n",
       "        vertical-align: top;\n",
       "    }\n",
       "\n",
       "    .dataframe thead th {\n",
       "        text-align: right;\n",
       "    }\n",
       "</style>\n",
       "<table border=\"1\" class=\"dataframe\">\n",
       "  <thead>\n",
       "    <tr style=\"text-align: right;\">\n",
       "      <th></th>\n",
       "      <th>columna_1</th>\n",
       "      <th>columna_2</th>\n",
       "      <th>columna_3</th>\n",
       "      <th>columna_4</th>\n",
       "    </tr>\n",
       "  </thead>\n",
       "  <tbody>\n",
       "    <tr>\n",
       "      <th>0</th>\n",
       "      <td>valor_fila_0</td>\n",
       "      <td>valor_fila_0</td>\n",
       "      <td>valor_fila_0</td>\n",
       "      <td>valor_fila_0</td>\n",
       "    </tr>\n",
       "    <tr>\n",
       "      <th>1</th>\n",
       "      <td>valor_fila_1</td>\n",
       "      <td>valor_fila_1</td>\n",
       "      <td>valor_fila_1</td>\n",
       "      <td>valor_fila_1</td>\n",
       "    </tr>\n",
       "    <tr>\n",
       "      <th>2</th>\n",
       "      <td>valor_fila_2</td>\n",
       "      <td>valor_fila_2</td>\n",
       "      <td>valor_fila_2</td>\n",
       "      <td>valor_fila_2</td>\n",
       "    </tr>\n",
       "    <tr>\n",
       "      <th>3</th>\n",
       "      <td>valor_fila_3</td>\n",
       "      <td>valor_fila_3</td>\n",
       "      <td>valor_fila_3</td>\n",
       "      <td>valor_fila_3</td>\n",
       "    </tr>\n",
       "    <tr>\n",
       "      <th>4</th>\n",
       "      <td>valor_fila_4</td>\n",
       "      <td>valor_fila_4</td>\n",
       "      <td>valor_fila_4</td>\n",
       "      <td>valor_fila_4</td>\n",
       "    </tr>\n",
       "  </tbody>\n",
       "</table>\n",
       "</div>"
      ],
      "text/plain": [
       "      columna_1     columna_2     columna_3     columna_4\n",
       "0  valor_fila_0  valor_fila_0  valor_fila_0  valor_fila_0\n",
       "1  valor_fila_1  valor_fila_1  valor_fila_1  valor_fila_1\n",
       "2  valor_fila_2  valor_fila_2  valor_fila_2  valor_fila_2\n",
       "3  valor_fila_3  valor_fila_3  valor_fila_3  valor_fila_3\n",
       "4  valor_fila_4  valor_fila_4  valor_fila_4  valor_fila_4"
      ]
     },
     "execution_count": 9,
     "metadata": {},
     "output_type": "execute_result"
    }
   ],
   "source": [
    "df = pd.DataFrame(datos)\n",
    "df"
   ]
  },
  {
   "cell_type": "markdown",
   "metadata": {},
   "source": [
    "También podemos pasarle explícitamente un índice para cambiar el índice default:"
   ]
  },
  {
   "cell_type": "code",
   "execution_count": 10,
   "metadata": {},
   "outputs": [
    {
     "data": {
      "text/html": [
       "<div>\n",
       "<style scoped>\n",
       "    .dataframe tbody tr th:only-of-type {\n",
       "        vertical-align: middle;\n",
       "    }\n",
       "\n",
       "    .dataframe tbody tr th {\n",
       "        vertical-align: top;\n",
       "    }\n",
       "\n",
       "    .dataframe thead th {\n",
       "        text-align: right;\n",
       "    }\n",
       "</style>\n",
       "<table border=\"1\" class=\"dataframe\">\n",
       "  <thead>\n",
       "    <tr style=\"text-align: right;\">\n",
       "      <th></th>\n",
       "      <th>columna_1</th>\n",
       "      <th>columna_2</th>\n",
       "      <th>columna_3</th>\n",
       "      <th>columna_4</th>\n",
       "    </tr>\n",
       "  </thead>\n",
       "  <tbody>\n",
       "    <tr>\n",
       "      <th>a</th>\n",
       "      <td>valor_fila_0</td>\n",
       "      <td>valor_fila_0</td>\n",
       "      <td>valor_fila_0</td>\n",
       "      <td>valor_fila_0</td>\n",
       "    </tr>\n",
       "    <tr>\n",
       "      <th>b</th>\n",
       "      <td>valor_fila_1</td>\n",
       "      <td>valor_fila_1</td>\n",
       "      <td>valor_fila_1</td>\n",
       "      <td>valor_fila_1</td>\n",
       "    </tr>\n",
       "    <tr>\n",
       "      <th>c</th>\n",
       "      <td>valor_fila_2</td>\n",
       "      <td>valor_fila_2</td>\n",
       "      <td>valor_fila_2</td>\n",
       "      <td>valor_fila_2</td>\n",
       "    </tr>\n",
       "    <tr>\n",
       "      <th>d</th>\n",
       "      <td>valor_fila_3</td>\n",
       "      <td>valor_fila_3</td>\n",
       "      <td>valor_fila_3</td>\n",
       "      <td>valor_fila_3</td>\n",
       "    </tr>\n",
       "    <tr>\n",
       "      <th>e</th>\n",
       "      <td>valor_fila_4</td>\n",
       "      <td>valor_fila_4</td>\n",
       "      <td>valor_fila_4</td>\n",
       "      <td>valor_fila_4</td>\n",
       "    </tr>\n",
       "  </tbody>\n",
       "</table>\n",
       "</div>"
      ],
      "text/plain": [
       "      columna_1     columna_2     columna_3     columna_4\n",
       "a  valor_fila_0  valor_fila_0  valor_fila_0  valor_fila_0\n",
       "b  valor_fila_1  valor_fila_1  valor_fila_1  valor_fila_1\n",
       "c  valor_fila_2  valor_fila_2  valor_fila_2  valor_fila_2\n",
       "d  valor_fila_3  valor_fila_3  valor_fila_3  valor_fila_3\n",
       "e  valor_fila_4  valor_fila_4  valor_fila_4  valor_fila_4"
      ]
     },
     "execution_count": 10,
     "metadata": {},
     "output_type": "execute_result"
    }
   ],
   "source": [
    "df = pd.DataFrame(datos, index=['a','b','c','d','e'])\n",
    "df"
   ]
  },
  {
   "cell_type": "markdown",
   "metadata": {},
   "source": [
    "Vamos a convertirlo en un `DataFrame`:"
   ]
  },
  {
   "cell_type": "markdown",
   "metadata": {},
   "source": [
    "Para observar columnas individualmente, usamos el `operador de indexación` y le pasamos el nombre de la columna:"
   ]
  },
  {
   "cell_type": "code",
   "execution_count": 13,
   "metadata": {},
   "outputs": [
    {
     "data": {
      "text/plain": [
       "a    valor_fila_0\n",
       "b    valor_fila_1\n",
       "c    valor_fila_2\n",
       "d    valor_fila_3\n",
       "e    valor_fila_4\n",
       "Name: columna_4, dtype: object"
      ]
     },
     "execution_count": 13,
     "metadata": {},
     "output_type": "execute_result"
    }
   ],
   "source": [
    "df['columna_4']"
   ]
  },
  {
   "cell_type": "markdown",
   "metadata": {},
   "source": [
    "La columna que obtuvimos es una `Serie` de pandas con una propiedad `Name`.\n",
    "\n",
    "También podemos ver más de una columna pasando una `lista` con los nombres de las columnas que queremos en el orden que las queremos:"
   ]
  },
  {
   "cell_type": "code",
   "execution_count": 14,
   "metadata": {},
   "outputs": [
    {
     "data": {
      "text/html": [
       "<div>\n",
       "<style scoped>\n",
       "    .dataframe tbody tr th:only-of-type {\n",
       "        vertical-align: middle;\n",
       "    }\n",
       "\n",
       "    .dataframe tbody tr th {\n",
       "        vertical-align: top;\n",
       "    }\n",
       "\n",
       "    .dataframe thead th {\n",
       "        text-align: right;\n",
       "    }\n",
       "</style>\n",
       "<table border=\"1\" class=\"dataframe\">\n",
       "  <thead>\n",
       "    <tr style=\"text-align: right;\">\n",
       "      <th></th>\n",
       "      <th>columna_1</th>\n",
       "      <th>columna_4</th>\n",
       "    </tr>\n",
       "  </thead>\n",
       "  <tbody>\n",
       "    <tr>\n",
       "      <th>a</th>\n",
       "      <td>valor_fila_0</td>\n",
       "      <td>valor_fila_0</td>\n",
       "    </tr>\n",
       "    <tr>\n",
       "      <th>b</th>\n",
       "      <td>valor_fila_1</td>\n",
       "      <td>valor_fila_1</td>\n",
       "    </tr>\n",
       "    <tr>\n",
       "      <th>c</th>\n",
       "      <td>valor_fila_2</td>\n",
       "      <td>valor_fila_2</td>\n",
       "    </tr>\n",
       "    <tr>\n",
       "      <th>d</th>\n",
       "      <td>valor_fila_3</td>\n",
       "      <td>valor_fila_3</td>\n",
       "    </tr>\n",
       "    <tr>\n",
       "      <th>e</th>\n",
       "      <td>valor_fila_4</td>\n",
       "      <td>valor_fila_4</td>\n",
       "    </tr>\n",
       "  </tbody>\n",
       "</table>\n",
       "</div>"
      ],
      "text/plain": [
       "      columna_1     columna_4\n",
       "a  valor_fila_0  valor_fila_0\n",
       "b  valor_fila_1  valor_fila_1\n",
       "c  valor_fila_2  valor_fila_2\n",
       "d  valor_fila_3  valor_fila_3\n",
       "e  valor_fila_4  valor_fila_4"
      ]
     },
     "execution_count": 14,
     "metadata": {},
     "output_type": "execute_result"
    }
   ],
   "source": [
    "df[['columna_1', 'columna_4']]"
   ]
  },
  {
   "cell_type": "code",
   "execution_count": 15,
   "metadata": {},
   "outputs": [],
   "source": [
    "df_2 = df[['columna_1', 'columna_4']]"
   ]
  },
  {
   "cell_type": "markdown",
   "metadata": {},
   "source": [
    ">Importante: Usamos las palabras `observar` o `ver` porque indexar columnas no regresa una copia de esas columnas, sino solamente una \"vista\" de esas columnas, como si estuviéramos viéndolas a través de una ventana. Eso quiere decir que los cambios que realicemos a las \"vista\" no se verán reflejados en el `DataFrame` original.\n",
    "\n",
    "   Para indexar filas, podemos usar el operador loc.\n",
    "\n",
    "Podemos pedir una sola fila:"
   ]
  },
  {
   "cell_type": "code",
   "execution_count": 16,
   "metadata": {},
   "outputs": [
    {
     "data": {
      "text/html": [
       "<div>\n",
       "<style scoped>\n",
       "    .dataframe tbody tr th:only-of-type {\n",
       "        vertical-align: middle;\n",
       "    }\n",
       "\n",
       "    .dataframe tbody tr th {\n",
       "        vertical-align: top;\n",
       "    }\n",
       "\n",
       "    .dataframe thead th {\n",
       "        text-align: right;\n",
       "    }\n",
       "</style>\n",
       "<table border=\"1\" class=\"dataframe\">\n",
       "  <thead>\n",
       "    <tr style=\"text-align: right;\">\n",
       "      <th></th>\n",
       "      <th>columna_1</th>\n",
       "      <th>columna_4</th>\n",
       "    </tr>\n",
       "  </thead>\n",
       "  <tbody>\n",
       "    <tr>\n",
       "      <th>a</th>\n",
       "      <td>valor_fila_0</td>\n",
       "      <td>valor_fila_0</td>\n",
       "    </tr>\n",
       "    <tr>\n",
       "      <th>b</th>\n",
       "      <td>valor_fila_1</td>\n",
       "      <td>valor_fila_1</td>\n",
       "    </tr>\n",
       "    <tr>\n",
       "      <th>c</th>\n",
       "      <td>valor_fila_2</td>\n",
       "      <td>valor_fila_2</td>\n",
       "    </tr>\n",
       "    <tr>\n",
       "      <th>d</th>\n",
       "      <td>valor_fila_3</td>\n",
       "      <td>valor_fila_3</td>\n",
       "    </tr>\n",
       "    <tr>\n",
       "      <th>e</th>\n",
       "      <td>valor_fila_4</td>\n",
       "      <td>valor_fila_4</td>\n",
       "    </tr>\n",
       "  </tbody>\n",
       "</table>\n",
       "</div>"
      ],
      "text/plain": [
       "      columna_1     columna_4\n",
       "a  valor_fila_0  valor_fila_0\n",
       "b  valor_fila_1  valor_fila_1\n",
       "c  valor_fila_2  valor_fila_2\n",
       "d  valor_fila_3  valor_fila_3\n",
       "e  valor_fila_4  valor_fila_4"
      ]
     },
     "execution_count": 16,
     "metadata": {},
     "output_type": "execute_result"
    }
   ],
   "source": [
    "df_2"
   ]
  },
  {
   "cell_type": "code",
   "execution_count": 17,
   "metadata": {},
   "outputs": [
    {
     "data": {
      "text/plain": [
       "columna_1    valor_fila_3\n",
       "columna_2    valor_fila_3\n",
       "columna_3    valor_fila_3\n",
       "columna_4    valor_fila_3\n",
       "Name: d, dtype: object"
      ]
     },
     "execution_count": 17,
     "metadata": {},
     "output_type": "execute_result"
    }
   ],
   "source": [
    "df.loc['d'] # nombre del indice"
   ]
  },
  {
   "cell_type": "code",
   "execution_count": 19,
   "metadata": {},
   "outputs": [
    {
     "data": {
      "text/plain": [
       "columna_1    valor_fila_3\n",
       "columna_2    valor_fila_3\n",
       "columna_3    valor_fila_3\n",
       "columna_4    valor_fila_3\n",
       "Name: d, dtype: object"
      ]
     },
     "execution_count": 19,
     "metadata": {},
     "output_type": "execute_result"
    }
   ],
   "source": [
    "df.iloc[3]"
   ]
  },
  {
   "cell_type": "code",
   "execution_count": 21,
   "metadata": {},
   "outputs": [
    {
     "data": {
      "text/html": [
       "<div>\n",
       "<style scoped>\n",
       "    .dataframe tbody tr th:only-of-type {\n",
       "        vertical-align: middle;\n",
       "    }\n",
       "\n",
       "    .dataframe tbody tr th {\n",
       "        vertical-align: top;\n",
       "    }\n",
       "\n",
       "    .dataframe thead th {\n",
       "        text-align: right;\n",
       "    }\n",
       "</style>\n",
       "<table border=\"1\" class=\"dataframe\">\n",
       "  <thead>\n",
       "    <tr style=\"text-align: right;\">\n",
       "      <th></th>\n",
       "      <th>columna_1</th>\n",
       "      <th>columna_2</th>\n",
       "      <th>columna_3</th>\n",
       "      <th>columna_4</th>\n",
       "    </tr>\n",
       "  </thead>\n",
       "  <tbody>\n",
       "    <tr>\n",
       "      <th>b</th>\n",
       "      <td>valor_fila_1</td>\n",
       "      <td>valor_fila_1</td>\n",
       "      <td>valor_fila_1</td>\n",
       "      <td>valor_fila_1</td>\n",
       "    </tr>\n",
       "    <tr>\n",
       "      <th>d</th>\n",
       "      <td>valor_fila_3</td>\n",
       "      <td>valor_fila_3</td>\n",
       "      <td>valor_fila_3</td>\n",
       "      <td>valor_fila_3</td>\n",
       "    </tr>\n",
       "    <tr>\n",
       "      <th>a</th>\n",
       "      <td>valor_fila_0</td>\n",
       "      <td>valor_fila_0</td>\n",
       "      <td>valor_fila_0</td>\n",
       "      <td>valor_fila_0</td>\n",
       "    </tr>\n",
       "  </tbody>\n",
       "</table>\n",
       "</div>"
      ],
      "text/plain": [
       "      columna_1     columna_2     columna_3     columna_4\n",
       "b  valor_fila_1  valor_fila_1  valor_fila_1  valor_fila_1\n",
       "d  valor_fila_3  valor_fila_3  valor_fila_3  valor_fila_3\n",
       "a  valor_fila_0  valor_fila_0  valor_fila_0  valor_fila_0"
      ]
     },
     "execution_count": 21,
     "metadata": {},
     "output_type": "execute_result"
    }
   ],
   "source": [
    "df.loc[['b','d','a']]"
   ]
  },
  {
   "cell_type": "markdown",
   "metadata": {},
   "source": []
  },
  {
   "cell_type": "code",
   "execution_count": 27,
   "metadata": {},
   "outputs": [
    {
     "data": {
      "text/html": [
       "<div>\n",
       "<style scoped>\n",
       "    .dataframe tbody tr th:only-of-type {\n",
       "        vertical-align: middle;\n",
       "    }\n",
       "\n",
       "    .dataframe tbody tr th {\n",
       "        vertical-align: top;\n",
       "    }\n",
       "\n",
       "    .dataframe thead th {\n",
       "        text-align: right;\n",
       "    }\n",
       "</style>\n",
       "<table border=\"1\" class=\"dataframe\">\n",
       "  <thead>\n",
       "    <tr style=\"text-align: right;\">\n",
       "      <th></th>\n",
       "      <th>columna_1</th>\n",
       "      <th>columna_2</th>\n",
       "      <th>columna_3</th>\n",
       "      <th>columna_4</th>\n",
       "    </tr>\n",
       "  </thead>\n",
       "  <tbody>\n",
       "    <tr>\n",
       "      <th>b</th>\n",
       "      <td>valor_fila_1</td>\n",
       "      <td>valor_fila_1</td>\n",
       "      <td>valor_fila_1</td>\n",
       "      <td>valor_fila_1</td>\n",
       "    </tr>\n",
       "    <tr>\n",
       "      <th>c</th>\n",
       "      <td>valor_fila_2</td>\n",
       "      <td>valor_fila_2</td>\n",
       "      <td>valor_fila_2</td>\n",
       "      <td>valor_fila_2</td>\n",
       "    </tr>\n",
       "    <tr>\n",
       "      <th>d</th>\n",
       "      <td>valor_fila_3</td>\n",
       "      <td>valor_fila_3</td>\n",
       "      <td>valor_fila_3</td>\n",
       "      <td>valor_fila_3</td>\n",
       "    </tr>\n",
       "  </tbody>\n",
       "</table>\n",
       "</div>"
      ],
      "text/plain": [
       "      columna_1     columna_2     columna_3     columna_4\n",
       "b  valor_fila_1  valor_fila_1  valor_fila_1  valor_fila_1\n",
       "c  valor_fila_2  valor_fila_2  valor_fila_2  valor_fila_2\n",
       "d  valor_fila_3  valor_fila_3  valor_fila_3  valor_fila_3"
      ]
     },
     "execution_count": 27,
     "metadata": {},
     "output_type": "execute_result"
    }
   ],
   "source": [
    "df.loc['b':'d']"
   ]
  },
  {
   "cell_type": "code",
   "execution_count": 26,
   "metadata": {},
   "outputs": [
    {
     "data": {
      "text/html": [
       "<div>\n",
       "<style scoped>\n",
       "    .dataframe tbody tr th:only-of-type {\n",
       "        vertical-align: middle;\n",
       "    }\n",
       "\n",
       "    .dataframe tbody tr th {\n",
       "        vertical-align: top;\n",
       "    }\n",
       "\n",
       "    .dataframe thead th {\n",
       "        text-align: right;\n",
       "    }\n",
       "</style>\n",
       "<table border=\"1\" class=\"dataframe\">\n",
       "  <thead>\n",
       "    <tr style=\"text-align: right;\">\n",
       "      <th></th>\n",
       "      <th>columna_1</th>\n",
       "      <th>columna_2</th>\n",
       "      <th>columna_3</th>\n",
       "      <th>columna_4</th>\n",
       "    </tr>\n",
       "  </thead>\n",
       "  <tbody>\n",
       "    <tr>\n",
       "      <th>b</th>\n",
       "      <td>valor_fila_1</td>\n",
       "      <td>valor_fila_1</td>\n",
       "      <td>valor_fila_1</td>\n",
       "      <td>valor_fila_1</td>\n",
       "    </tr>\n",
       "    <tr>\n",
       "      <th>c</th>\n",
       "      <td>valor_fila_2</td>\n",
       "      <td>valor_fila_2</td>\n",
       "      <td>valor_fila_2</td>\n",
       "      <td>valor_fila_2</td>\n",
       "    </tr>\n",
       "    <tr>\n",
       "      <th>d</th>\n",
       "      <td>valor_fila_3</td>\n",
       "      <td>valor_fila_3</td>\n",
       "      <td>valor_fila_3</td>\n",
       "      <td>valor_fila_3</td>\n",
       "    </tr>\n",
       "    <tr>\n",
       "      <th>e</th>\n",
       "      <td>valor_fila_4</td>\n",
       "      <td>valor_fila_4</td>\n",
       "      <td>valor_fila_4</td>\n",
       "      <td>valor_fila_4</td>\n",
       "    </tr>\n",
       "  </tbody>\n",
       "</table>\n",
       "</div>"
      ],
      "text/plain": [
       "      columna_1     columna_2     columna_3     columna_4\n",
       "b  valor_fila_1  valor_fila_1  valor_fila_1  valor_fila_1\n",
       "c  valor_fila_2  valor_fila_2  valor_fila_2  valor_fila_2\n",
       "d  valor_fila_3  valor_fila_3  valor_fila_3  valor_fila_3\n",
       "e  valor_fila_4  valor_fila_4  valor_fila_4  valor_fila_4"
      ]
     },
     "execution_count": 26,
     "metadata": {},
     "output_type": "execute_result"
    }
   ],
   "source": [
    "df.loc['b':'e']"
   ]
  },
  {
   "cell_type": "markdown",
   "metadata": {},
   "source": [
    "Podemos pasarle un segundo argumento a loc para seleccionar solamente algunas columnas de las filas que pedimos. En este caso estamos pidiendo la columna 'columna_2' de la fila 'b', por lo que obtenemos un solo valor:"
   ]
  },
  {
   "cell_type": "code",
   "execution_count": 29,
   "metadata": {},
   "outputs": [
    {
     "data": {
      "text/plain": [
       "'valor_fila_1'"
      ]
     },
     "execution_count": 29,
     "metadata": {},
     "output_type": "execute_result"
    }
   ],
   "source": [
    "df.loc['b','columna_2']"
   ]
  },
  {
   "cell_type": "code",
   "execution_count": 30,
   "metadata": {},
   "outputs": [
    {
     "data": {
      "text/plain": [
       "'valor_fila_1'"
      ]
     },
     "execution_count": 30,
     "metadata": {},
     "output_type": "execute_result"
    }
   ],
   "source": [
    "# rpimero se pone la columna\n",
    "df['columna_2']['b']"
   ]
  },
  {
   "cell_type": "markdown",
   "metadata": {},
   "source": [
    "Tambien podemos pedir multiples filas y columnas "
   ]
  },
  {
   "cell_type": "code",
   "execution_count": 31,
   "metadata": {},
   "outputs": [
    {
     "data": {
      "text/html": [
       "<div>\n",
       "<style scoped>\n",
       "    .dataframe tbody tr th:only-of-type {\n",
       "        vertical-align: middle;\n",
       "    }\n",
       "\n",
       "    .dataframe tbody tr th {\n",
       "        vertical-align: top;\n",
       "    }\n",
       "\n",
       "    .dataframe thead th {\n",
       "        text-align: right;\n",
       "    }\n",
       "</style>\n",
       "<table border=\"1\" class=\"dataframe\">\n",
       "  <thead>\n",
       "    <tr style=\"text-align: right;\">\n",
       "      <th></th>\n",
       "      <th>columna_2</th>\n",
       "      <th>columna_4</th>\n",
       "    </tr>\n",
       "  </thead>\n",
       "  <tbody>\n",
       "    <tr>\n",
       "      <th>b</th>\n",
       "      <td>valor_fila_1</td>\n",
       "      <td>valor_fila_1</td>\n",
       "    </tr>\n",
       "    <tr>\n",
       "      <th>d</th>\n",
       "      <td>valor_fila_3</td>\n",
       "      <td>valor_fila_3</td>\n",
       "    </tr>\n",
       "  </tbody>\n",
       "</table>\n",
       "</div>"
      ],
      "text/plain": [
       "      columna_2     columna_4\n",
       "b  valor_fila_1  valor_fila_1\n",
       "d  valor_fila_3  valor_fila_3"
      ]
     },
     "execution_count": 31,
     "metadata": {},
     "output_type": "execute_result"
    }
   ],
   "source": [
    "df.loc[['b','d'],['columna_2','columna_4']]"
   ]
  },
  {
   "cell_type": "code",
   "execution_count": 32,
   "metadata": {},
   "outputs": [
    {
     "data": {
      "text/html": [
       "<div>\n",
       "<style scoped>\n",
       "    .dataframe tbody tr th:only-of-type {\n",
       "        vertical-align: middle;\n",
       "    }\n",
       "\n",
       "    .dataframe tbody tr th {\n",
       "        vertical-align: top;\n",
       "    }\n",
       "\n",
       "    .dataframe thead th {\n",
       "        text-align: right;\n",
       "    }\n",
       "</style>\n",
       "<table border=\"1\" class=\"dataframe\">\n",
       "  <thead>\n",
       "    <tr style=\"text-align: right;\">\n",
       "      <th></th>\n",
       "      <th>columna_2</th>\n",
       "    </tr>\n",
       "  </thead>\n",
       "  <tbody>\n",
       "    <tr>\n",
       "      <th>b</th>\n",
       "      <td>valor_fila_1</td>\n",
       "    </tr>\n",
       "    <tr>\n",
       "      <th>d</th>\n",
       "      <td>valor_fila_3</td>\n",
       "    </tr>\n",
       "  </tbody>\n",
       "</table>\n",
       "</div>"
      ],
      "text/plain": [
       "      columna_2\n",
       "b  valor_fila_1\n",
       "d  valor_fila_3"
      ]
     },
     "execution_count": 32,
     "metadata": {},
     "output_type": "execute_result"
    }
   ],
   "source": [
    "df.loc[['b','d'],['columna_2']]"
   ]
  },
  {
   "cell_type": "markdown",
   "metadata": {},
   "source": [
    "Vamonos al Reto "
   ]
  },
  {
   "cell_type": "markdown",
   "metadata": {},
   "source": []
  },
  {
   "cell_type": "code",
   "execution_count": 33,
   "metadata": {},
   "outputs": [],
   "source": [
    "datos = {\n",
    "    \"Nombre\": [\"Pepinillo Hernández\", \"Lúpulo de Dios\", \"Juan Juon\", \"Jimmy el Patatas\", \"Lorenzo Retaguardias\"],\n",
    "    \"Cereal favorito\": [\"Korn Floks\", \"Verdurinis\", \"Zumbaritas\", \"Diabetukis, Papá\", \"Fibra Máxima 3000\"],\n",
    "    \"Hora del desayuno\": [\"11:00\", \"07:30\", \"07:00\", \"08:30\", \"09:30\"]\n",
    "}\n",
    "\n",
    "df = pd.DataFrame(datos)"
   ]
  },
  {
   "cell_type": "code",
   "execution_count": 39,
   "metadata": {},
   "outputs": [
    {
     "data": {
      "text/plain": [
       "{'Nombre': ['Pepinillo Hernández',\n",
       "  'Lúpulo de Dios',\n",
       "  'Juan Juon',\n",
       "  'Jimmy el Patatas',\n",
       "  'Lorenzo Retaguardias'],\n",
       " 'Cereal favorito': ['Korn Floks',\n",
       "  'Verdurinis',\n",
       "  'Zumbaritas',\n",
       "  'Diabetukis, Papá',\n",
       "  'Fibra Máxima 3000'],\n",
       " 'Hora del desayuno': ['11:00', '07:30', '07:00', '08:30', '09:30']}"
      ]
     },
     "execution_count": 39,
     "metadata": {},
     "output_type": "execute_result"
    }
   ],
   "source": [
    "df"
   ]
  },
  {
   "cell_type": "markdown",
   "metadata": {},
   "source": [
    "Podemos agregar nuevas columnas a nuestros `DataFrames` con una sintaxis muy parecida a la de los `diccionarios`:"
   ]
  },
  {
   "cell_type": "code",
   "execution_count": null,
   "metadata": {},
   "outputs": [],
   "source": [
    "df['Hora del desayuno']= pd.Series(['12:30','6:30','','','12:10'])"
   ]
  },
  {
   "cell_type": "markdown",
   "metadata": {},
   "source": [
    "Tambien podemon eliminar una columna usando el siguinete comando:"
   ]
  },
  {
   "cell_type": "code",
   "execution_count": null,
   "metadata": {},
   "outputs": [],
   "source": [
    "df.drop(columns='Fruta con la que acompaña el cereal')"
   ]
  },
  {
   "cell_type": "markdown",
   "metadata": {},
   "source": [
    "Recuerda que estos métodos sólo regresan \"vistas\". Para que el cambio permanezca, tenemos que asignar el resultado de la operación a la variable `df` o a alguna otra variable:"
   ]
  },
  {
   "cell_type": "code",
   "execution_count": null,
   "metadata": {},
   "outputs": [],
   "source": []
  },
  {
   "cell_type": "code",
   "execution_count": null,
   "metadata": {},
   "outputs": [],
   "source": []
  }
 ],
 "metadata": {
  "kernelspec": {
   "display_name": "Python 3",
   "language": "python",
   "name": "python3"
  },
  "language_info": {
   "codemirror_mode": {
    "name": "ipython",
    "version": 3
   },
   "file_extension": ".py",
   "mimetype": "text/x-python",
   "name": "python",
   "nbconvert_exporter": "python",
   "pygments_lexer": "ipython3",
   "version": "3.12.3"
  }
 },
 "nbformat": 4,
 "nbformat_minor": 2
}
