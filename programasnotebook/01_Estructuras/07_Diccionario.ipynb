{
 "cells": [
  {
   "cell_type": "markdown",
   "metadata": {},
   "source": [
    "# Diccionarios\n",
    "\n",
    "El diccionario es otro tipo de estructura de datos de Python. No es una secuencia (pero puede adaptarse fácilmente a un procesamiento secuencial) y además es mutable.\n",
    "\n",
    "Para explicar lo que es un diccionario en Python, es importante comprender de manera literal lo que es un diccionario."
   ]
  },
  {
   "cell_type": "markdown",
   "metadata": {},
   "source": [
    "## ¿Como Utilizar un Diccionario"
   ]
  },
  {
   "cell_type": "code",
   "execution_count": 2,
   "metadata": {},
   "outputs": [],
   "source": [
    "diccionario = { \"gato\" : \"Morris\", \"caballo\" : \"Sindy\", \"perro\" : \"Firulais\"}\n",
    "telefonos ={ \"jefe\" : 5551234526, \"Susy\" : 555123875}\n",
    "diccionario_vacio = {}"
   ]
  },
  {
   "cell_type": "code",
   "execution_count": 3,
   "metadata": {},
   "outputs": [
    {
     "name": "stdout",
     "output_type": "stream",
     "text": [
      "{'gato': 'Morris', 'caballo': 'Sindy', 'perro': 'Firulais'}\n",
      "{'jefe': 5551234526, 'Susy': 555123875}\n",
      "{}\n"
     ]
    }
   ],
   "source": [
    "print(diccionario)\n",
    "print(telefonos)\n",
    "print(diccionario_vacio)"
   ]
  },
  {
   "cell_type": "code",
   "execution_count": 4,
   "metadata": {},
   "outputs": [
    {
     "name": "stdout",
     "output_type": "stream",
     "text": [
      "Morris\n"
     ]
    }
   ],
   "source": [
    "print(diccionario[\"gato\"])"
   ]
  },
  {
   "cell_type": "code",
   "execution_count": 5,
   "metadata": {},
   "outputs": [
    {
     "ename": "KeyError",
     "evalue": "'susy'",
     "output_type": "error",
     "traceback": [
      "\u001b[1;31m---------------------------------------------------------------------------\u001b[0m",
      "\u001b[1;31mKeyError\u001b[0m                                  Traceback (most recent call last)",
      "Cell \u001b[1;32mIn[5], line 1\u001b[0m\n\u001b[1;32m----> 1\u001b[0m \u001b[38;5;28mprint\u001b[39m(\u001b[43mtelefonos\u001b[49m\u001b[43m[\u001b[49m\u001b[38;5;124;43m\"\u001b[39;49m\u001b[38;5;124;43msusy\u001b[39;49m\u001b[38;5;124;43m\"\u001b[39;49m\u001b[43m]\u001b[49m)\n",
      "\u001b[1;31mKeyError\u001b[0m: 'susy'"
     ]
    }
   ],
   "source": [
    "print(telefonos[\"susy\"])"
   ]
  },
  {
   "cell_type": "code",
   "execution_count": 6,
   "metadata": {},
   "outputs": [
    {
     "name": "stdout",
     "output_type": "stream",
     "text": [
      "555123875\n"
     ]
    }
   ],
   "source": [
    "print(telefonos[\"Susy\"])"
   ]
  },
  {
   "cell_type": "code",
   "execution_count": 1,
   "metadata": {},
   "outputs": [
    {
     "name": "stdout",
     "output_type": "stream",
     "text": [
      "gato No esta en el diccionario\n",
      "leon No esta en el diccionario\n",
      "caballo->cheval \n"
     ]
    }
   ],
   "source": [
    "dictionary = {\"cat\":\"gato\", \"perro\": \"chien\", \"caballo\" : \"cheval \"}\n",
    "words = ['gato', 'leon', 'caballo']\n",
    "\n",
    "for word in words:\n",
    "    if word in dictionary:\n",
    "        print(word + \"->\" + dictionary[word])\n",
    "    else:\n",
    "        print(word, 'No esta en el diccionario')"
   ]
  },
  {
   "cell_type": "markdown",
   "metadata": {},
   "source": [
    "### El método keys()\n",
    "\n",
    "¿Pueden los diccionarios ser examinados utilizando el bucle for, como las listas o tuplas?\n",
    "\n",
    "No y si.\n",
    "\n",
    "No, porque un diccionario no es un tipo de dato secuencial - el bucle for no es útil aquí.\n",
    "\n",
    "Si, porque hay herramientas simples y muy efectivas que pueden adaptar cualquier diccionario a los requerimientos del bucle for (en otras palabras, se construye un enlace intermedio entre el diccionario y una entidad secuencial temporal).\n",
    "\n",
    "El primero de ellos es un método denominado keys(), el cual es parte de todo diccionario. El método retorna o regresa una lista de todas las claves dentro del diccionario. Al tener una lista de claves se puede acceder a todo el diccionario de una manera fácil y útil.\n",
    "\n",
    "A continuación se muestra un ejemplo:"
   ]
  },
  {
   "cell_type": "code",
   "execution_count": 2,
   "metadata": {},
   "outputs": [
    {
     "name": "stdout",
     "output_type": "stream",
     "text": [
      "cat -> gato\n",
      "perro -> chien\n",
      "caballo -> cheval \n"
     ]
    }
   ],
   "source": [
    "dictionary = {\"cat\":\"gato\", \"perro\": \"chien\", \"caballo\" : \"cheval \"}\n",
    "\n",
    "for key in dictionary.keys():\n",
    "    print(key, '->', dictionary[key])"
   ]
  },
  {
   "cell_type": "code",
   "execution_count": 3,
   "metadata": {},
   "outputs": [
    {
     "name": "stdout",
     "output_type": "stream",
     "text": [
      "cat -> gato\n",
      "perro -> chien\n",
      "caballo -> cheval \n",
      "burro -> filemon\n"
     ]
    }
   ],
   "source": [
    "dicti = {\"cat\":\"gato\", \"perro\": \"chien\", \"caballo\" : \"cheval \", \"burro\":\"filemon\"}\n",
    "\n",
    "for key, valor  in dicti.items():\n",
    "    print(key,'->', valor) "
   ]
  },
  {
   "cell_type": "markdown",
   "metadata": {},
   "source": [
    "### Modificar, agregar y eliminar valores\n",
    "\n",
    "El asignar un nuevo valor a una clave existente es sencillo - debido a que los diccionarios son completamente mutables, no existen obstáculos para modificarlos.\n",
    "\n",
    "Se va a reemplazar el valor \"chat\" por \"minou\", lo cual no es muy adecuado, pero funcionará con nuestro ejemplo.\n",
    "\n",
    "Observa:"
   ]
  },
  {
   "cell_type": "code",
   "execution_count": 7,
   "metadata": {},
   "outputs": [
    {
     "ename": "TypeError",
     "evalue": "'type' object does not support item assignment",
     "output_type": "error",
     "traceback": [
      "\u001b[1;31m---------------------------------------------------------------------------\u001b[0m",
      "\u001b[1;31mTypeError\u001b[0m                                 Traceback (most recent call last)",
      "Cell \u001b[1;32mIn[7], line 2\u001b[0m\n\u001b[0;32m      1\u001b[0m dicti \u001b[38;5;241m=\u001b[39m {\u001b[38;5;124m\"\u001b[39m\u001b[38;5;124mcat\u001b[39m\u001b[38;5;124m\"\u001b[39m:\u001b[38;5;124m\"\u001b[39m\u001b[38;5;124mgato\u001b[39m\u001b[38;5;124m\"\u001b[39m, \u001b[38;5;124m\"\u001b[39m\u001b[38;5;124mperro\u001b[39m\u001b[38;5;124m\"\u001b[39m: \u001b[38;5;124m\"\u001b[39m\u001b[38;5;124mchien\u001b[39m\u001b[38;5;124m\"\u001b[39m, \u001b[38;5;124m\"\u001b[39m\u001b[38;5;124mcaballo\u001b[39m\u001b[38;5;124m\"\u001b[39m : \u001b[38;5;124m\"\u001b[39m\u001b[38;5;124mcheval \u001b[39m\u001b[38;5;124m\"\u001b[39m, \u001b[38;5;124m\"\u001b[39m\u001b[38;5;124mburro\u001b[39m\u001b[38;5;124m\"\u001b[39m:\u001b[38;5;124m\"\u001b[39m\u001b[38;5;124mfilemon\u001b[39m\u001b[38;5;124m\"\u001b[39m}\n\u001b[1;32m----> 2\u001b[0m \u001b[38;5;28;43mdict\u001b[39;49m\u001b[43m[\u001b[49m\u001b[38;5;124;43m\"\u001b[39;49m\u001b[38;5;124;43mcat\u001b[39;49m\u001b[38;5;124;43m\"\u001b[39;49m\u001b[43m]\u001b[49m \u001b[38;5;241m=\u001b[39m \u001b[38;5;124m\"\u001b[39m\u001b[38;5;124mMorris\u001b[39m\u001b[38;5;124m\"\u001b[39m\n\u001b[0;32m      3\u001b[0m \u001b[38;5;28mprint\u001b[39m(dicti)\n",
      "\u001b[1;31mTypeError\u001b[0m: 'type' object does not support item assignment"
     ]
    }
   ],
   "source": [
    "dicti = {\"cat\":\"gato\", \"perro\": \"chien\", \"caballo\" : \"cheval \", \"burro\":\"filemon\"}\n",
    "dict[\"cat\"] = \"Morris\"\n",
    "print(dicti)"
   ]
  },
  {
   "cell_type": "markdown",
   "metadata": {},
   "source": [
    "### La función sorted()\n",
    "\n",
    "¿Deseas que la salida este ordenada? Solo hay que agregar al bucle for lo siguiente:"
   ]
  },
  {
   "cell_type": "code",
   "execution_count": 10,
   "metadata": {},
   "outputs": [
    {
     "name": "stdout",
     "output_type": "stream",
     "text": [
      "[23, 6, 5, 4, 3, 1]\n"
     ]
    }
   ],
   "source": [
    "#ordenar una lista de forma desendente.\n",
    "\n",
    "lista = [4,5,1,23,6,3]\n",
    "lista_ordenada = sorted(lista, reverse=True)\n",
    "print(lista_ordenada)"
   ]
  },
  {
   "cell_type": "code",
   "execution_count": 14,
   "metadata": {},
   "outputs": [
    {
     "name": "stdout",
     "output_type": "stream",
     "text": [
      "Diccionario ordenado por claves {'cat': 'gato', 'dog': 'perro', 'fish': 'pez', 'horse': 'caballo'}\n"
     ]
    }
   ],
   "source": [
    "#ordena por clave pero guarda tanto el key como el value de forme ascendente \n",
    "\n",
    "dict_nuevo = {\"cat\": \"gato\", \"dog\": \"perro\", \"horse\":\"caballo\", \"fish\":\"pez\"}\n",
    "diccionario_ordenado_claves = dict(sorted(dict_nuevo.items(), reverse=False))\n",
    "\n",
    "print(\"Diccionario ordenado por claves\", diccionario_ordenado_claves)"
   ]
  },
  {
   "cell_type": "code",
   "execution_count": null,
   "metadata": {},
   "outputs": [],
   "source": [
    "#ordena por clave pero guarda tanto el key como el value de forme desendente\n",
    "#  \n",
    "dict_nuevo = {\"cat\": \"gato\", \"dog\": \"perro\", \"horse\":\"caballo\", \"fish\":\"pez\"}\n",
    "diccionario_ordenado_claves = dict(sorted(dict_nuevo.items(), reverse=False))\n",
    "\n",
    "print(\"Diccionario ordenado por claves\", diccionario_ordenado_claves)"
   ]
  },
  {
   "cell_type": "code",
   "execution_count": 19,
   "metadata": {},
   "outputs": [
    {
     "name": "stdout",
     "output_type": "stream",
     "text": [
      "Diccionario ordenado por clave  ['cat', 'dog', 'fish', 'horse']\n"
     ]
    }
   ],
   "source": [
    "#ordenar por clave, pero solo muestra las clases de forma ascendente\n",
    "claves_ordenadas = sorted(dict_nuevo.keys(), reverse=False)\n",
    "print(\"Diccionario ordenado por clave \", claves_ordenadas)"
   ]
  },
  {
   "cell_type": "code",
   "execution_count": 18,
   "metadata": {},
   "outputs": [
    {
     "name": "stdout",
     "output_type": "stream",
     "text": [
      "Diccionario ordenado por clave  ['horse', 'fish', 'dog', 'cat']\n"
     ]
    }
   ],
   "source": [
    "#ordenar por clave, pero solo muestra las clases de forma desendente\n",
    "claves_ordenadas = sorted(dict_nuevo.keys(), reverse=True)\n",
    "print(\"Diccionario ordenado por clave \", claves_ordenadas)"
   ]
  },
  {
   "cell_type": "code",
   "execution_count": 20,
   "metadata": {},
   "outputs": [
    {
     "name": "stdout",
     "output_type": "stream",
     "text": [
      "{'cat': 'gato', 'dog': 'perro', 'horse': 'caballo', 'fish': 'pez', 'pig': 'Cochino'}\n"
     ]
    }
   ],
   "source": [
    "dict_ingles_español = {\"cat\": \"gato\", \"dog\": \"perro\", \"horse\":\"caballo\", \"fish\":\"pez\"}\n",
    "dict_ingles_español[\"pig\"] =\"Cochino\"\n",
    "\n",
    "print(dict_ingles_español)\n"
   ]
  },
  {
   "cell_type": "markdown",
   "metadata": {},
   "source": [
    "<span style=\"background-color: orange; border-radius: 5px; padding: 2px 2px; color:black;\">Nota</span>\n",
    "\n",
    "También es posible insertar un elemento al diccionario utilizando el método update(), por ejemplo:"
   ]
  },
  {
   "cell_type": "code",
   "execution_count": 22,
   "metadata": {},
   "outputs": [
    {
     "name": "stdout",
     "output_type": "stream",
     "text": [
      "{'cat': 'gato', 'dog': 'perro', 'horse': 'caballo', 'fish': 'pez', 'pig': 'Cochino', 'turkey': 'Totol'}\n"
     ]
    }
   ],
   "source": [
    "dict_ingles_español.update({'turkey':'Totol'})\n",
    "print(dict_ingles_español)"
   ]
  },
  {
   "cell_type": "markdown",
   "metadata": {},
   "source": [
    "### Eliminado una clave\n",
    "\n",
    "¿Puedes deducir como eliminar una clave de un diccionario?\n",
    "\n",
    "Nota: al eliminar la clave también se removerá el valor asociado. Los valores no pueden existir sin sus claves.\n",
    "\n",
    "Esto se logra con la instrucción del.\n",
    "\n",
    "A continuación un ejemplo:"
   ]
  },
  {
   "cell_type": "code",
   "execution_count": 23,
   "metadata": {},
   "outputs": [
    {
     "name": "stdout",
     "output_type": "stream",
     "text": [
      "{'dog': 'perro', 'horse': 'caballo', 'fish': 'pez'}\n"
     ]
    }
   ],
   "source": [
    "dict_ingles_español = {\"cat\": \"gato\", \"dog\": \"perro\", \"horse\":\"caballo\", \"fish\":\"pez\"}\n",
    "\n",
    "del dict_ingles_español['cat']\n",
    "print(dict_ingles_español)"
   ]
  },
  {
   "cell_type": "markdown",
   "metadata": {},
   "source": [
    "Para eliminar el ultimo elemento de la lista, se puede emplear el método popitem():"
   ]
  },
  {
   "cell_type": "code",
   "execution_count": 24,
   "metadata": {},
   "outputs": [
    {
     "name": "stdout",
     "output_type": "stream",
     "text": [
      "{'dog': 'perro', 'horse': 'caballo'}\n"
     ]
    }
   ],
   "source": [
    "dict_ingles_español.popitem()\n",
    "print(dict_ingles_español)"
   ]
  }
 ],
 "metadata": {
  "kernelspec": {
   "display_name": "Python 3",
   "language": "python",
   "name": "python3"
  },
  "language_info": {
   "codemirror_mode": {
    "name": "ipython",
    "version": 3
   },
   "file_extension": ".py",
   "mimetype": "text/x-python",
   "name": "python",
   "nbconvert_exporter": "python",
   "pygments_lexer": "ipython3",
   "version": "3.12.3"
  }
 },
 "nbformat": 4,
 "nbformat_minor": 2
}
